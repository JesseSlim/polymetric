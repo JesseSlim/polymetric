{
 "cells": [
  {
   "cell_type": "code",
   "execution_count": null,
   "metadata": {},
   "outputs": [],
   "source": [
    "import numpy as np\n",
    "from importlib import reload\n",
    "import matplotlib.pyplot as plt\n",
    "\n",
    "import shapely as sp\n",
    "import shapely.geometry"
   ]
  },
  {
   "cell_type": "code",
   "execution_count": null,
   "metadata": {},
   "outputs": [],
   "source": [
    "import polymetric as pm\n",
    "reload(pm)"
   ]
  },
  {
   "cell_type": "code",
   "execution_count": null,
   "metadata": {},
   "outputs": [],
   "source": [
    "import polymetric.exporters.gds\n",
    "import polymetric.exporters.dxf"
   ]
  },
  {
   "cell_type": "code",
   "execution_count": null,
   "metadata": {},
   "outputs": [],
   "source": [
    "def plot_polys(polys, cycle_colours=False, **kw):\n",
    "    single_color = None\n",
    "    for i, outer_poly in enumerate(polys):\n",
    "        if isinstance(outer_poly, (sp.geometry.MultiPolygon)):\n",
    "            inner_poly = outer_poly.geoms\n",
    "        else:\n",
    "            inner_poly = [outer_poly]\n",
    "        \n",
    "        for poly in inner_poly:\n",
    "            xs, ys = poly.exterior.xy\n",
    "            plot_params = dict(kw)\n",
    "\n",
    "            if cycle_colours:\n",
    "                plot_params[\"color\"] = \"C%d\" % (i % 10)\n",
    "            elif single_color is not None:\n",
    "                plot_params[\"color\"] = single_color\n",
    "\n",
    "            l = plt.plot(xs, ys, **plot_params)\n",
    "            if single_color is None:\n",
    "                single_color = l[0].get_color()\n",
    "                plot_params[\"color\"] = single_color\n",
    "\n",
    "            # plot interiors with a different line style\n",
    "            plot_params[\"linestyle\"] = \"--\"\n",
    "            for interior in poly.interiors:\n",
    "                xs, ys = interior.xy\n",
    "                plt.plot(xs, ys, **plot_params)\n",
    "            \n",
    "def plot_shapes(shapes, *more_shapes, **kw):\n",
    "    if not isinstance(shapes, (list, tuple)):\n",
    "        shapes = [shapes]\n",
    "        \n",
    "    shapes += more_shapes\n",
    "    for s in shapes:\n",
    "        plot_polys(s.polygonize(), **kw)\n",
    "            \n",
    "def show_polys():\n",
    "    plt.gca().set_aspect('equal')\n",
    "    plt.show()\n",
    "    \n",
    "def inspect_shapes(shapes, *more_shapes, **kw):\n",
    "    plt.figure()\n",
    "    plot_shapes(shapes, *more_shapes, **kw)\n",
    "    show_polys()"
   ]
  },
  {
   "cell_type": "markdown",
   "metadata": {},
   "source": [
    "## Parameters"
   ]
  },
  {
   "cell_type": "code",
   "execution_count": null,
   "metadata": {},
   "outputs": [],
   "source": [
    "hole_b = 0.750/2.0\n",
    "hole_a = 0.270/2.0\n",
    "\n",
    "slit_d = 0.045\n",
    "beam_w = 0.900\n",
    "beam_l = 10.0\n",
    "\n",
    "holes_n = 11\n",
    "\n",
    "defect_d = 0.400\n",
    "lattice_d = 0.450"
   ]
  },
  {
   "cell_type": "code",
   "execution_count": null,
   "metadata": {},
   "outputs": [],
   "source": [
    "hole = pm.Ellipse(a=hole_a, b=hole_b, x=defect_d/2)\n",
    "inspect_shapes(hole)"
   ]
  },
  {
   "cell_type": "code",
   "execution_count": null,
   "metadata": {},
   "outputs": [],
   "source": [
    "hole_sweep = pm.ParametricSweep(\n",
    "    constructor=hole.clone,\n",
    "    sweep_over=np.arange(holes_n),\n",
    "    sweep_params = {\n",
    "        'x': lambda n: defect_d/2 + n*lattice_d,\n",
    "#         'b': lambda n: hole_b if n > 2 else (0.7 + 0.1*n)*hole_b,\n",
    "#         'a': lambda n: hole_a if n > 2 else (0.7 + 0.1*n)*hole_a,\n",
    "    }\n",
    ")\n",
    "\n",
    "inspect_shapes(hole_sweep)"
   ]
  },
  {
   "cell_type": "code",
   "execution_count": null,
   "metadata": {},
   "outputs": [],
   "source": [
    "hole_sweep_mirror = pm.Scaled(hole_sweep, scales=(-1.0, 1.0))\n",
    "inspect_shapes(hole_sweep, hole_sweep_mirror)"
   ]
  },
  {
   "cell_type": "code",
   "execution_count": null,
   "metadata": {},
   "outputs": [],
   "source": [
    "all_holes = pm.Combined([hole_sweep, hole_sweep_mirror])\n",
    "inspect_shapes(all_holes)"
   ]
  },
  {
   "cell_type": "code",
   "execution_count": null,
   "metadata": {},
   "outputs": [],
   "source": [
    "full_beam = pm.Rectangle(x=0.0, y=0.0, w=beam_l, h=beam_w)\n",
    "inspect_shapes(full_beam)"
   ]
  },
  {
   "cell_type": "code",
   "execution_count": null,
   "metadata": {},
   "outputs": [],
   "source": [
    "minus_holes = pm.Difference([full_beam, all_holes])\n",
    "inspect_shapes(minus_holes)"
   ]
  },
  {
   "cell_type": "code",
   "execution_count": null,
   "metadata": {},
   "outputs": [],
   "source": [
    "minus_holes.has_interiors()"
   ]
  },
  {
   "cell_type": "code",
   "execution_count": null,
   "metadata": {},
   "outputs": [],
   "source": [
    "minus_slit = pm.Difference([minus_holes, pm.Rectangle(x=0.0, y=0.0, w=beam_l, h=slit_d)])\n",
    "inspect_shapes(minus_slit)"
   ]
  },
  {
   "cell_type": "code",
   "execution_count": null,
   "metadata": {},
   "outputs": [],
   "source": [
    "minus_slit.has_interiors()"
   ]
  },
  {
   "cell_type": "code",
   "execution_count": null,
   "metadata": {},
   "outputs": [],
   "source": [
    "final_polys = minus_slit.apply(pm.Expanded).polygonize()"
   ]
  },
  {
   "cell_type": "markdown",
   "metadata": {},
   "source": [
    "# GDSpy stuff starts here"
   ]
  },
  {
   "cell_type": "code",
   "execution_count": null,
   "metadata": {},
   "outputs": [],
   "source": [
    "shape_to_save = minus_slit"
   ]
  },
  {
   "cell_type": "code",
   "execution_count": null,
   "metadata": {},
   "outputs": [],
   "source": [
    "import gdspy\n",
    "reload(gdspy)\n",
    "\n",
    "MAX_VERTICES = 8000"
   ]
  },
  {
   "cell_type": "code",
   "execution_count": null,
   "metadata": {},
   "outputs": [],
   "source": [
    "poly_cell = gdspy.Cell('johnbeam')"
   ]
  },
  {
   "cell_type": "code",
   "execution_count": null,
   "metadata": {},
   "outputs": [],
   "source": [
    "# for spoly in final_polys:\n",
    "#     if len(spoly.interiors) > 0:\n",
    "#         print(\"WARNING: polygon contains interiors, which is not supported by the GDS file format. Ignoring...\")\n",
    "        \n",
    "#     vertices = list(spoly.exterior.coords)\n",
    "#     n_vertices = len(vertices)\n",
    "#     print(\"Number of vertices: %d\" % n_vertices)\n",
    "#     if n_vertices > MAX_VERTICES:\n",
    "#         raise ValueError(\"Polygon contains more that %d vertices\" % MAX_VERTICES)\n",
    "#     gds_poly = gdspy.Polygon(vertices, 1)\n",
    "    \n",
    "#     poly_cell.add(gds_poly)\n",
    "\n",
    "# poly_cell.flatten(single_datatype=1000)"
   ]
  },
  {
   "cell_type": "code",
   "execution_count": null,
   "metadata": {},
   "outputs": [],
   "source": [
    "if shape_to_save.has_interiors():\n",
    "    print(\"WARNING: polygon contains interiors, which is not supported by the GDS file format. Ignoring the interiors.\")\n",
    "    \n",
    "vertex_lists = shape_to_save.get_exterior_vertex_lists()\n",
    "\n",
    "for vl in vertex_lists:\n",
    "    if len(vl) > MAX_VERTICES:\n",
    "        raise ValueError(\"Polygon contains more that %d vertices: %d\" % (MAX_VERTICES, len(vl)))\n",
    "    gds_poly = gdspy.Polygon(vl[:-1], 1)\n",
    "    poly_cell.add(gds_poly)\n",
    "    \n",
    "poly_cell.flatten(single_datatype=1000)"
   ]
  },
  {
   "cell_type": "code",
   "execution_count": null,
   "metadata": {},
   "outputs": [],
   "source": [
    "\n",
    "\n",
    "gdspy.write_gds(\"johnbeam.gds\", unit=1e-6, precision=1e-9)\n"
   ]
  },
  {
   "cell_type": "markdown",
   "metadata": {},
   "source": [
    "# DXF stuff starts here (dxfwrite)"
   ]
  },
  {
   "cell_type": "code",
   "execution_count": null,
   "metadata": {},
   "outputs": [],
   "source": [
    "from dxfwrite import DXFEngine as dxf\n",
    "\n",
    "drawing = dxf.drawing(\"johnbeam.dxf\")\n",
    "\n",
    "vertex_lists = shape_to_save.get_exterior_vertex_lists()\n",
    "\n",
    "for vl in vertex_lists:\n",
    "    polyline = dxf.polyline(thickness=0, startwidth=0, endwidth=0)\n",
    "    # shapely always duplicates the first vertex as the last vertex, get rid of that\n",
    "    polyline.add_vertices(vl[:-1]) \n",
    "    # close polyline explicitly\n",
    "    polyline.close()\n",
    "    drawing.add(polyline)\n",
    "\n",
    "drawing.save()\n"
   ]
  },
  {
   "cell_type": "markdown",
   "metadata": {},
   "source": [
    "# DXF stuff with ezdxf"
   ]
  },
  {
   "cell_type": "code",
   "execution_count": null,
   "metadata": {},
   "outputs": [],
   "source": [
    "import ezdxf\n",
    "\n",
    "dwg = ezdxf.new(\"R2010\")\n",
    "msp = dwg.modelspace()\n",
    "\n",
    "vertex_lists = shape_to_save.get_exterior_vertex_lists()\n",
    "\n",
    "for vl in vertex_lists:\n",
    "    # shapely always duplicates the first vertex as the last vertex, get rid of that\n",
    "    polyline = msp.add_lwpolyline(vl[:-1])\n",
    "    polyline.closed = True\n",
    "    \n",
    "dwg.saveas(\"jb_ezdxf.dxf\")\n"
   ]
  },
  {
   "cell_type": "markdown",
   "metadata": {},
   "source": [
    "# Saving using polymetric functions"
   ]
  },
  {
   "cell_type": "code",
   "execution_count": null,
   "metadata": {},
   "outputs": [],
   "source": [
    "pm.exporters.gds.save(shape_to_save, \"pmsave.gds\")"
   ]
  },
  {
   "cell_type": "code",
   "execution_count": null,
   "metadata": {},
   "outputs": [],
   "source": [
    "pm.exporters.dxf.save(shape_to_save, \"pmsave.dxf\")"
   ]
  },
  {
   "cell_type": "code",
   "execution_count": null,
   "metadata": {},
   "outputs": [],
   "source": []
  }
 ],
 "metadata": {
  "language_info": {
   "name": "python",
   "pygments_lexer": "ipython3"
  }
 },
 "nbformat": 4,
 "nbformat_minor": 2
}
