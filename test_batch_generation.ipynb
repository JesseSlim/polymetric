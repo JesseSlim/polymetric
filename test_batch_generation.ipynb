{
 "cells": [
  {
   "cell_type": "code",
   "execution_count": null,
   "metadata": {},
   "outputs": [],
   "source": [
    "import numpy as np\n",
    "from importlib import reload\n",
    "import matplotlib.pyplot as plt\n",
    "\n",
    "import shapely as sp\n",
    "import shapely.geometry"
   ]
  },
  {
   "cell_type": "code",
   "execution_count": null,
   "metadata": {},
   "outputs": [],
   "source": [
    "import polymetric as pm\n",
    "reload(pm)\n",
    "import polymetric.exporters.dxf\n",
    "import polymetric.exporters.gds\n",
    "import polymetric.plotting"
   ]
  },
  {
   "cell_type": "code",
   "execution_count": null,
   "metadata": {},
   "outputs": [],
   "source": [
    "def generate_jbeam(**kw):\n",
    "    # parameters\n",
    "    hole_b = kw.pop(\"hole_b\", 0.750/2.0)\n",
    "    hole_a = kw.pop(\"hole_a\", 0.270/2.0)\n",
    "\n",
    "    slit_d = kw.pop(\"slit_d\", 0.045)\n",
    "    beam_w = kw.pop(\"beam_w\", 0.900)\n",
    "    beam_l = kw.pop(\"beam_l\", 10.0)\n",
    "\n",
    "    holes_n = kw.pop(\"holes_n\", 11)\n",
    "\n",
    "    defect_d = kw.pop(\"defect_d\", 0.400)\n",
    "    lattice_d = kw.pop(\"lattice_d\", 0.450)\n",
    "    \n",
    "    # actual construction of geometry\n",
    "    hole = pm.Ellipse(a=hole_a, b=hole_b, x=defect_d/2)\n",
    "    hole_sweep = pm.ParametricSweep(\n",
    "        constructor=hole.clone,\n",
    "        sweep_over=np.arange(holes_n),\n",
    "        sweep_params = {\n",
    "            'x': lambda n: defect_d/2 + n*lattice_d,\n",
    "#             'b': lambda n: hole_b if n > 2 else (0.7 + 0.1*n)*hole_b,\n",
    "#             'a': lambda n: hole_a if n > 2 else (0.7 + 0.1*n)*hole_a,\n",
    "        }\n",
    "    )\n",
    "    hole_sweep_mirror = pm.Scaled(hole_sweep, scales=(-1.0, 1.0))\n",
    "    all_holes = pm.Combined([hole_sweep, hole_sweep_mirror])\n",
    "    full_beam = pm.Rectangle(x=0.0, y=0.0, w=beam_l, h=beam_w)\n",
    "    minus_holes = pm.Difference([full_beam, all_holes])\n",
    "    minus_slit = pm.Difference([minus_holes, pm.Rectangle(x=0.0, y=0.0, w=beam_l, h=slit_d)])\n",
    "    \n",
    "    return minus_slit"
   ]
  },
  {
   "cell_type": "code",
   "execution_count": null,
   "metadata": {},
   "outputs": [],
   "source": [
    "beam_polys = []\n",
    "\n",
    "for i in range(1,12):\n",
    "    poly = generate_jbeam(holes_n=i)\n",
    "    pm.plotting.inspect_shapes(poly)\n",
    "    pm.exporters.dxf.save(poly, \"test_generated_files/beam_n_%d.dxf\" % i)\n",
    "    pm.exporters.gds.save(poly, \"test_generated_files/beam_n_%d.gds\" % i)\n",
    "    beam_polys.append(poly)"
   ]
  },
  {
   "cell_type": "code",
   "execution_count": null,
   "metadata": {},
   "outputs": [],
   "source": [
    "poly.get_exterior_vertex_lists()"
   ]
  },
  {
   "cell_type": "code",
   "execution_count": null,
   "metadata": {},
   "outputs": [],
   "source": []
  }
 ],
 "metadata": {
  "language_info": {
   "name": "python",
   "pygments_lexer": "ipython3"
  }
 },
 "nbformat": 4,
 "nbformat_minor": 2
}
