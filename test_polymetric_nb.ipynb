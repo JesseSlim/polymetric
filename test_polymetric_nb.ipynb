{
 "cells": [
  {
   "cell_type": "code",
   "execution_count": null,
   "metadata": {},
   "outputs": [],
   "source": [
    "import polymetric\n",
    "import matplotlib.pyplot as plt\n",
    "import numpy as np\n",
    "from importlib import reload\n",
    "\n",
    "reload(polymetric)"
   ]
  },
  {
   "cell_type": "code",
   "execution_count": null,
   "metadata": {},
   "outputs": [],
   "source": [
    "def plot_polys(polys, cycle_colours=False, **kw):\n",
    "    single_color = None\n",
    "    for i, poly in enumerate(polys):\n",
    "        xs, ys = poly.exterior.xy\n",
    "        plot_params = dict(kw)\n",
    "        \n",
    "        if cycle_colours:\n",
    "            plot_params[\"color\"] = \"C%d\" % (i % 10)\n",
    "        elif single_color is not None:\n",
    "            plot_params[\"color\"] = single_color\n",
    "            \n",
    "        l = plt.plot(xs, ys, **plot_params)\n",
    "        if single_color is None:\n",
    "            single_color = l[0].get_color()\n",
    "            plot_params[\"color\"] = single_color\n",
    "        \n",
    "        # plot interiors with a different line style\n",
    "        plot_params[\"linestyle\"] = \"--\"\n",
    "        for interior in poly.interiors:\n",
    "            xs, ys = interior.xy\n",
    "            plt.plot(xs, ys, **plot_params)\n",
    "            \n",
    "def show_polys():\n",
    "    plt.axes().set_aspect('equal')\n",
    "    plt.show()"
   ]
  },
  {
   "cell_type": "code",
   "execution_count": null,
   "metadata": {},
   "outputs": [],
   "source": [
    "c1 = polymetric.Circle(name=\"c1\", r=5)\n",
    "c2 = polymetric.Circle(name=\"c2\", r=lambda get_param: get_param(\"d\") / 2.0, d=10)"
   ]
  },
  {
   "cell_type": "code",
   "execution_count": null,
   "metadata": {},
   "outputs": [],
   "source": [
    "poly_c1 = c1.polygonize()\n",
    "poly_c2 = c2.polygonize()"
   ]
  },
  {
   "cell_type": "code",
   "execution_count": null,
   "metadata": {},
   "outputs": [],
   "source": [
    "c1.get_param(\"n_sectors\")"
   ]
  },
  {
   "cell_type": "code",
   "execution_count": null,
   "metadata": {},
   "outputs": [],
   "source": [
    "poly_c2[0]"
   ]
  },
  {
   "cell_type": "code",
   "execution_count": null,
   "metadata": {},
   "outputs": [],
   "source": [
    "r1 = polymetric.Rectangle(name=\"r1\", w=5.0, h=2.0)"
   ]
  },
  {
   "cell_type": "code",
   "execution_count": null,
   "metadata": {},
   "outputs": [],
   "source": [
    "r1.polygonize()[0]"
   ]
  },
  {
   "cell_type": "code",
   "execution_count": null,
   "metadata": {},
   "outputs": [],
   "source": [
    "burp = {\"lala\": True, \"yoyo\": 1}"
   ]
  },
  {
   "cell_type": "code",
   "execution_count": null,
   "metadata": {},
   "outputs": [],
   "source": [
    "burp[\"lala\"] is True"
   ]
  },
  {
   "cell_type": "code",
   "execution_count": null,
   "metadata": {},
   "outputs": [],
   "source": [
    "ps1 = polymetric.ParametricSweep(\n",
    "    constructor=polymetric.Circle,\n",
    "    sweep_over=np.arange(3),\n",
    "    sweep_params = {\n",
    "        \"x\": True,\n",
    "        \"y\": lambda i: i**2\n",
    "    },\n",
    "    fixed_params = {\n",
    "        \"r\": 0.5\n",
    "    },\n",
    ")"
   ]
  },
  {
   "cell_type": "code",
   "execution_count": null,
   "metadata": {},
   "outputs": [],
   "source": [
    "ps1.build()"
   ]
  },
  {
   "cell_type": "code",
   "execution_count": null,
   "metadata": {},
   "outputs": [],
   "source": [
    "tc1A = c1.apply(polymetric.Translated, offset=(1.0, 0.0)).apply(polymetric.Scaled, scales=(0.7, 0.7))\n",
    "tc1B = c1.apply(polymetric.Translated, offset=(1.0, 0.0)).apply(polymetric.Scaled, scales=(0.7, 0.7), origin=\"center\")"
   ]
  },
  {
   "cell_type": "code",
   "execution_count": null,
   "metadata": {},
   "outputs": [],
   "source": [
    "plt.figure()\n",
    "plot_polys(poly_c1)\n",
    "plot_polys(tc1A.polygonize())\n",
    "plot_polys(tc1B.polygonize())\n",
    "show_polys()\n"
   ]
  },
  {
   "cell_type": "code",
   "execution_count": null,
   "metadata": {},
   "outputs": [],
   "source": [
    "ps1_polys = ps1.polygonize()"
   ]
  },
  {
   "cell_type": "code",
   "execution_count": null,
   "metadata": {},
   "outputs": [],
   "source": [
    "plt.figure()\n",
    "plot_polys(ps1_polys)\n",
    "plot_polys(poly_c2)\n",
    "plt.axes().set_aspect('equal')\n",
    "plt.show()"
   ]
  },
  {
   "cell_type": "code",
   "execution_count": null,
   "metadata": {},
   "outputs": [],
   "source": [
    "import shapely as sp\n",
    "import shapely.ops\n",
    "import shapely.geometry"
   ]
  },
  {
   "cell_type": "code",
   "execution_count": null,
   "metadata": {},
   "outputs": [],
   "source": [
    "united_ps1_polys = sp.ops.cascaded_union(ps1_polys)\n",
    "poly_diff = [poly_c2[0].difference(united_ps1_polys)]"
   ]
  },
  {
   "cell_type": "code",
   "execution_count": null,
   "metadata": {},
   "outputs": [],
   "source": [
    "plt.figure()\n",
    "plot_polys(poly_diff)\n",
    "plt.axes().set_aspect('equal')\n",
    "plt.show()"
   ]
  },
  {
   "cell_type": "code",
   "execution_count": null,
   "metadata": {},
   "outputs": [],
   "source": [
    "poly_diff[0].int"
   ]
  },
  {
   "cell_type": "code",
   "execution_count": null,
   "metadata": {},
   "outputs": [],
   "source": [
    "c1."
   ]
  },
  {
   "cell_type": "code",
   "execution_count": null,
   "metadata": {},
   "outputs": [],
   "source": []
  }
 ],
 "metadata": {
  "language_info": {
   "name": "python",
   "pygments_lexer": "ipython3"
  }
 },
 "nbformat": 4,
 "nbformat_minor": 2
}
