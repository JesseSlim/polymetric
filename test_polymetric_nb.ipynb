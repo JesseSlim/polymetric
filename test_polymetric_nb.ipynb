{
 "cells": [
  {
   "cell_type": "code",
   "execution_count": 1,
   "metadata": {},
   "outputs": [
    {
     "data": {
      "text/plain": [
       "<module 'polymetric' from '/Users/jesse/Code/polymetric/polymetric/__init__.py'>"
      ]
     },
     "execution_count": 1,
     "metadata": {},
     "output_type": "execute_result"
    }
   ],
   "source": [
    "import polymetric\n",
    "import matplotlib.pyplot as plt\n",
    "import numpy as np\n",
    "from importlib import reload\n",
    "\n",
    "reload(polymetric)"
   ]
  },
  {
   "cell_type": "code",
   "execution_count": 2,
   "metadata": {},
   "outputs": [],
   "source": [
    "def plot_polys(polys, cycle_colours=False, **kw):\n",
    "    single_color = None\n",
    "    for i, poly in enumerate(polys):\n",
    "        xs, ys = poly.exterior.xy\n",
    "        plot_params = dict(kw)\n",
    "        \n",
    "        if cycle_colours:\n",
    "            plot_params[\"color\"] = \"C%d\" % (i % 10)\n",
    "        elif single_color is not None:\n",
    "            plot_params[\"color\"] = single_color\n",
    "            \n",
    "        l = plt.plot(xs, ys, **plot_params)\n",
    "        if single_color is None:\n",
    "            single_color = l[0].get_color()\n",
    "            plot_params[\"color\"] = single_color\n",
    "        \n",
    "        # plot interiors with a different line style\n",
    "        plot_params[\"linestyle\"] = \"--\"\n",
    "        for interior in poly.interiors:\n",
    "            xs, ys = interior.xy\n",
    "            plt.plot(xs, ys, **plot_params)\n",
    "            \n",
    "def show_polys():\n",
    "    plt.axes().set_aspect('equal')\n",
    "    plt.show()"
   ]
  },
  {
   "cell_type": "code",
   "execution_count": 3,
   "metadata": {},
   "outputs": [],
   "source": [
    "c1 = polymetric.Circle(name=\"c1\", r=5)\n",
    "c2 = polymetric.Circle(name=\"c2\", r=lambda get_param: get_param(\"d\") / 2.0, d=10)"
   ]
  },
  {
   "cell_type": "code",
   "execution_count": 4,
   "metadata": {},
   "outputs": [],
   "source": [
    "poly_c1 = c1.polygonize()\n",
    "poly_c2 = c2.polygonize()"
   ]
  },
  {
   "cell_type": "code",
   "execution_count": 5,
   "metadata": {},
   "outputs": [
    {
     "data": {
      "text/plain": [
       "24"
      ]
     },
     "execution_count": 5,
     "metadata": {},
     "output_type": "execute_result"
    }
   ],
   "source": [
    "c1.get_param(\"n_sectors\")"
   ]
  },
  {
   "cell_type": "code",
   "execution_count": 6,
   "metadata": {},
   "outputs": [
    {
     "data": {
      "image/svg+xml": [
       "<svg xmlns=\"http://www.w3.org/2000/svg\" xmlns:xlink=\"http://www.w3.org/1999/xlink\" width=\"100.0\" height=\"100.0\" viewBox=\"-5.4 -5.4 10.8 10.8\" preserveAspectRatio=\"xMinYMin meet\"><g transform=\"matrix(1,0,0,-1,0,0.0)\"><path fill-rule=\"evenodd\" fill=\"#66cc99\" stroke=\"#555555\" stroke-width=\"0.21600000000000003\" opacity=\"0.6\" d=\"M 5.0,0.0 L 4.8296291314453415,1.2940952255126037 L 4.330127018922194,2.4999999999999996 L 3.5355339059327378,3.5355339059327373 L 2.5000000000000004,4.330127018922193 L 1.2940952255126048,4.829629131445341 L 3.061616997868383e-16,5.0 L -1.2940952255126033,4.8296291314453415 L -2.499999999999999,4.3301270189221945 L -3.5355339059327373,3.5355339059327378 L -4.330127018922193,2.5000000000000018 L -4.829629131445341,1.294095225512605 L -5.0,6.123233995736766e-16 L -4.829629131445342,-1.2940952255126017 L -4.3301270189221945,-2.499999999999999 L -3.5355339059327395,-3.5355339059327355 L -2.500000000000002,-4.330127018922192 L -1.2940952255126073,-4.829629131445341 L -9.184850993605148e-16,-5.0 L 1.2940952255126015,-4.829629131445342 L 2.4999999999999964,-4.330127018922195 L 3.5355339059327373,-3.5355339059327386 L 4.330127018922192,-2.500000000000002 L 4.829629131445341,-1.2940952255126077 L 5.0,0.0 z\" /></g></svg>"
      ],
      "text/plain": [
       "<shapely.geometry.polygon.Polygon at 0x107a0a550>"
      ]
     },
     "execution_count": 6,
     "metadata": {},
     "output_type": "execute_result"
    }
   ],
   "source": [
    "poly_c2[0]"
   ]
  },
  {
   "cell_type": "code",
   "execution_count": 7,
   "metadata": {},
   "outputs": [],
   "source": [
    "r1 = polymetric.Rectangle(name=\"r1\", w=5.0, h=2.0)"
   ]
  },
  {
   "cell_type": "code",
   "execution_count": 8,
   "metadata": {},
   "outputs": [
    {
     "data": {
      "image/svg+xml": [
       "<svg xmlns=\"http://www.w3.org/2000/svg\" xmlns:xlink=\"http://www.w3.org/1999/xlink\" width=\"100.0\" height=\"100.0\" viewBox=\"-5.4 -2.4 10.8 4.8\" preserveAspectRatio=\"xMinYMin meet\"><g transform=\"matrix(1,0,0,-1,0,0.0)\"><path fill-rule=\"evenodd\" fill=\"#66cc99\" stroke=\"#555555\" stroke-width=\"0.21600000000000003\" opacity=\"0.6\" d=\"M -5.0,-2.0 L -5.0,2.0 L 5.0,2.0 L 5.0,-2.0 L -5.0,-2.0 z\" /></g></svg>"
      ],
      "text/plain": [
       "<shapely.geometry.polygon.Polygon at 0x107a0a6d8>"
      ]
     },
     "execution_count": 8,
     "metadata": {},
     "output_type": "execute_result"
    }
   ],
   "source": [
    "r1.polygonize()[0]"
   ]
  },
  {
   "cell_type": "code",
   "execution_count": 9,
   "metadata": {},
   "outputs": [],
   "source": [
    "burp = {\"lala\": True, \"yoyo\": 1}"
   ]
  },
  {
   "cell_type": "code",
   "execution_count": 10,
   "metadata": {},
   "outputs": [
    {
     "data": {
      "text/plain": [
       "True"
      ]
     },
     "execution_count": 10,
     "metadata": {},
     "output_type": "execute_result"
    }
   ],
   "source": [
    "burp[\"lala\"] is True"
   ]
  },
  {
   "cell_type": "code",
   "execution_count": 11,
   "metadata": {},
   "outputs": [],
   "source": [
    "ps1 = polymetric.ParametricSweep(\n",
    "    constructor=polymetric.Circle,\n",
    "    sweep_over=np.arange(3),\n",
    "    sweep_params = {\n",
    "        \"x\": True,\n",
    "        \"y\": lambda i: i**2\n",
    "    },\n",
    "    fixed_params = {\n",
    "        \"r\": 0.5\n",
    "    },\n",
    ")"
   ]
  },
  {
   "cell_type": "code",
   "execution_count": 12,
   "metadata": {},
   "outputs": [],
   "source": [
    "ps1.build()"
   ]
  },
  {
   "cell_type": "code",
   "execution_count": 13,
   "metadata": {},
   "outputs": [],
   "source": [
    "tc1A = c1.apply(polymetric.Translated, offset=(1.0, 0.0)).apply(polymetric.Scaled, scales=(0.7, 0.7))\n",
    "tc1B = c1.apply(polymetric.Translated, offset=(1.0, 0.0)).apply(polymetric.Scaled, scales=(0.7, 0.7), origin=\"center\")"
   ]
  },
  {
   "cell_type": "code",
   "execution_count": 14,
   "metadata": {},
   "outputs": [
    {
     "data": {
      "image/png": "[encoded data removed]",
      "text/plain": [
       "<matplotlib.figure.Figure at 0x105b797f0>"
      ]
     },
     "metadata": {},
     "output_type": "display_data"
    }
   ],
   "source": [
    "plt.figure()\n",
    "plot_polys(poly_c1)\n",
    "plot_polys(tc1A.polygonize())\n",
    "plot_polys(tc1B.polygonize())\n",
    "show_polys()\n"
   ]
  },
  {
   "cell_type": "code",
   "execution_count": 15,
   "metadata": {},
   "outputs": [],
   "source": [
    "ps1_polys = ps1.polygonize()"
   ]
  },
  {
   "cell_type": "code",
   "execution_count": 16,
   "metadata": {},
   "outputs": [
    {
     "data": {
      "image/png": "[encoded data removed]",
      "text/plain": [
       "<matplotlib.figure.Figure at 0x10ac31588>"
      ]
     },
     "metadata": {},
     "output_type": "display_data"
    }
   ],
   "source": [
    "plt.figure()\n",
    "plot_polys(ps1_polys)\n",
    "plot_polys(poly_c2)\n",
    "plt.axes().set_aspect('equal')\n",
    "plt.show()"
   ]
  },
  {
   "cell_type": "code",
   "execution_count": 17,
   "metadata": {},
   "outputs": [
    {
     "data": {
      "image/png": "[encoded data removed]",
      "text/plain": [
       "<matplotlib.figure.Figure at 0x10ac31048>"
      ]
     },
     "metadata": {},
     "output_type": "display_data"
    }
   ],
   "source": [
    "plt.figure()\n",
    "l = plt.plot([1,1],[0,1])\n",
    "plt.show()"
   ]
  },
  {
   "cell_type": "code",
   "execution_count": 18,
   "metadata": {},
   "outputs": [],
   "source": [
    "ll = l[0]"
   ]
  },
  {
   "cell_type": "code",
   "execution_count": 19,
   "metadata": {},
   "outputs": [
    {
     "data": {
      "text/plain": [
       "'#1f77b4'"
      ]
     },
     "execution_count": 19,
     "metadata": {},
     "output_type": "execute_result"
    }
   ],
   "source": [
    "ll.get_color()"
   ]
  },
  {
   "cell_type": "code",
   "execution_count": 20,
   "metadata": {},
   "outputs": [],
   "source": [
    "import shapely as sp\n",
    "import shapely.ops\n",
    "import shapely.geometry"
   ]
  },
  {
   "cell_type": "code",
   "execution_count": 21,
   "metadata": {},
   "outputs": [],
   "source": [
    "united_ps1_polys = sp.ops.cascaded_union(ps1_polys)\n",
    "poly_diff = [poly_c2[0].difference(united_ps1_polys)]"
   ]
  },
  {
   "cell_type": "code",
   "execution_count": 22,
   "metadata": {},
   "outputs": [
    {
     "data": {
      "image/png": "[encoded data removed]",
      "text/plain": [
       "<matplotlib.figure.Figure at 0x10ad18f98>"
      ]
     },
     "metadata": {},
     "output_type": "display_data"
    }
   ],
   "source": [
    "plt.figure()\n",
    "plot_polys(poly_diff)\n",
    "plt.axes().set_aspect('equal')\n",
    "plt.show()"
   ]
  },
  {
   "cell_type": "code",
   "execution_count": 23,
   "metadata": {},
   "outputs": [
    {
     "ename": "AttributeError",
     "evalue": "'Polygon' object has no attribute 'int'",
     "output_type": "error",
     "traceback": [
      "\u001b[0;31m---------------------------------------------------------------------------\u001b[0m",
      "\u001b[0;31mAttributeError\u001b[0m                            Traceback (most recent call last)",
      "\u001b[0;32m<ipython-input-23-1dcd6ef6ec7e>\u001b[0m in \u001b[0;36m<module>\u001b[0;34m()\u001b[0m\n\u001b[0;32m----> 1\u001b[0;31m \u001b[0mpoly_diff\u001b[0m\u001b[0;34m[\u001b[0m\u001b[0;36m0\u001b[0m\u001b[0;34m]\u001b[0m\u001b[0;34m.\u001b[0m\u001b[0mint\u001b[0m\u001b[0;34m\u001b[0m\u001b[0m\n\u001b[0m",
      "\u001b[0;31mAttributeError\u001b[0m: 'Polygon' object has no attribute 'int'"
     ]
    }
   ],
   "source": [
    "poly_diff[0].int"
   ]
  },
  {
   "cell_type": "code",
   "execution_count": null,
   "metadata": {},
   "outputs": [],
   "source": [
    "c1."
   ]
  },
  {
   "cell_type": "code",
   "execution_count": null,
   "metadata": {},
   "outputs": [],
   "source": []
  }
 ],
 "metadata": {
  "kernelspec": {
   "display_name": "Python [default]",
   "language": "python",
   "name": "python3"
  },
  "language_info": {
   "codemirror_mode": {
    "name": "ipython",
    "version": 3
   },
   "file_extension": ".py",
   "mimetype": "text/x-python",
   "name": "python",
   "nbconvert_exporter": "python",
   "pygments_lexer": "ipython3",
   "version": "3.5.4"
  }
 },
 "nbformat": 4,
 "nbformat_minor": 2
}
