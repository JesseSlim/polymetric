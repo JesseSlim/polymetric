{
 "cells": [
  {
   "cell_type": "code",
   "execution_count": 1,
   "metadata": {},
   "outputs": [
    {
     "data": {
      "text/plain": [
       "<module 'polymetric' from '/Users/jesse/Code/polymetric/polymetric/__init__.py'>"
      ]
     },
     "execution_count": 1,
     "metadata": {},
     "output_type": "execute_result"
    }
   ],
   "source": [
    "import polymetric\n",
    "import matplotlib.pyplot as plt\n",
    "import numpy as np\n",
    "from importlib import reload\n",
    "\n",
    "reload(polymetric)"
   ]
  },
  {
   "cell_type": "code",
   "execution_count": 2,
   "metadata": {},
   "outputs": [],
   "source": [
    "c1 = polymetric.Circle(name=\"c1\", r=5)"
   ]
  },
  {
   "cell_type": "code",
   "execution_count": 3,
   "metadata": {},
   "outputs": [],
   "source": [
    "poly_c1 = c1.polygonize()"
   ]
  },
  {
   "cell_type": "code",
   "execution_count": 4,
   "metadata": {},
   "outputs": [
    {
     "data": {
      "text/plain": [
       "24"
      ]
     },
     "execution_count": 4,
     "metadata": {},
     "output_type": "execute_result"
    }
   ],
   "source": [
    "c1.get_param(\"n_sectors\")"
   ]
  },
  {
   "cell_type": "code",
   "execution_count": 5,
   "metadata": {},
   "outputs": [
    {
     "data": {
      "image/svg+xml": [
       "<svg xmlns=\"http://www.w3.org/2000/svg\" xmlns:xlink=\"http://www.w3.org/1999/xlink\" width=\"100.0\" height=\"100.0\" viewBox=\"-5.4 -5.4 10.8 10.8\" preserveAspectRatio=\"xMinYMin meet\"><g transform=\"matrix(1,0,0,-1,0,0.0)\"><path fill-rule=\"evenodd\" fill=\"#66cc99\" stroke=\"#555555\" stroke-width=\"0.21600000000000003\" opacity=\"0.6\" d=\"M 5.0,0.0 L 4.8296291314453415,1.2940952255126037 L 4.330127018922194,2.4999999999999996 L 3.5355339059327378,3.5355339059327373 L 2.5000000000000004,4.330127018922193 L 1.2940952255126048,4.829629131445341 L 3.061616997868383e-16,5.0 L -1.2940952255126033,4.8296291314453415 L -2.499999999999999,4.3301270189221945 L -3.5355339059327373,3.5355339059327378 L -4.330127018922193,2.5000000000000018 L -4.829629131445341,1.294095225512605 L -5.0,6.123233995736766e-16 L -4.829629131445342,-1.2940952255126017 L -4.3301270189221945,-2.499999999999999 L -3.5355339059327395,-3.5355339059327355 L -2.500000000000002,-4.330127018922192 L -1.2940952255126073,-4.829629131445341 L -9.184850993605148e-16,-5.0 L 1.2940952255126015,-4.829629131445342 L 2.4999999999999964,-4.330127018922195 L 3.5355339059327373,-3.5355339059327386 L 4.330127018922192,-2.500000000000002 L 4.829629131445341,-1.2940952255126077 L 5.0,0.0 z\" /></g></svg>"
      ],
      "text/plain": [
       "<shapely.geometry.polygon.Polygon at 0x1063acfd0>"
      ]
     },
     "execution_count": 5,
     "metadata": {},
     "output_type": "execute_result"
    }
   ],
   "source": [
    "poly_c1"
   ]
  },
  {
   "cell_type": "code",
   "execution_count": 6,
   "metadata": {},
   "outputs": [],
   "source": [
    "r1 = polymetric.Rectangle(name=\"r1\", w=5.0, h=2.0)"
   ]
  },
  {
   "cell_type": "code",
   "execution_count": 7,
   "metadata": {},
   "outputs": [
    {
     "data": {
      "image/svg+xml": [
       "<svg xmlns=\"http://www.w3.org/2000/svg\" xmlns:xlink=\"http://www.w3.org/1999/xlink\" width=\"100.0\" height=\"100.0\" viewBox=\"-5.4 -2.4 10.8 4.8\" preserveAspectRatio=\"xMinYMin meet\"><g transform=\"matrix(1,0,0,-1,0,0.0)\"><path fill-rule=\"evenodd\" fill=\"#66cc99\" stroke=\"#555555\" stroke-width=\"0.21600000000000003\" opacity=\"0.6\" d=\"M -5.0,-2.0 L -5.0,2.0 L 5.0,2.0 L 5.0,-2.0 L -5.0,-2.0 z\" /></g></svg>"
      ],
      "text/plain": [
       "<shapely.geometry.polygon.Polygon at 0x1063cf0b8>"
      ]
     },
     "execution_count": 7,
     "metadata": {},
     "output_type": "execute_result"
    }
   ],
   "source": [
    "r1.polygonize()"
   ]
  },
  {
   "cell_type": "code",
   "execution_count": 8,
   "metadata": {},
   "outputs": [],
   "source": [
    "burp = {\"lala\": True, \"yoyo\": 1}"
   ]
  },
  {
   "cell_type": "code",
   "execution_count": 9,
   "metadata": {},
   "outputs": [
    {
     "data": {
      "text/plain": [
       "True"
      ]
     },
     "execution_count": 9,
     "metadata": {},
     "output_type": "execute_result"
    }
   ],
   "source": [
    "burp[\"lala\"] is True"
   ]
  },
  {
   "cell_type": "code",
   "execution_count": 27,
   "metadata": {},
   "outputs": [],
   "source": [
    "ps1 = polymetric.ParametricSweep(\n",
    "    constructor=polymetric.Circle,\n",
    "    sweep_over=np.arange(3),\n",
    "    sweep_params = {\n",
    "        \"x\": True,\n",
    "        \"y\": lambda i: i**2\n",
    "    },\n",
    "    fixed_params = {\n",
    "        \"r\": 0.5\n",
    "    },\n",
    ")"
   ]
  },
  {
   "cell_type": "code",
   "execution_count": 28,
   "metadata": {},
   "outputs": [],
   "source": [
    "ps1.build()"
   ]
  },
  {
   "cell_type": "code",
   "execution_count": 29,
   "metadata": {},
   "outputs": [],
   "source": [
    "aaaa = polymetric.Circle"
   ]
  },
  {
   "cell_type": "code",
   "execution_count": 30,
   "metadata": {},
   "outputs": [
    {
     "data": {
      "text/plain": [
       "<polymetric.polymetric.Circle at 0x1064519e8>"
      ]
     },
     "execution_count": 30,
     "metadata": {},
     "output_type": "execute_result"
    }
   ],
   "source": [
    "aaaa(r=5)"
   ]
  },
  {
   "cell_type": "code",
   "execution_count": 31,
   "metadata": {},
   "outputs": [
    {
     "data": {
      "image/svg+xml": [
       "<svg xmlns=\"http://www.w3.org/2000/svg\" xmlns:xlink=\"http://www.w3.org/1999/xlink\" width=\"100.0\" height=\"100.0\" viewBox=\"-0.7 -0.7 3.4000000000000004 5.4\" preserveAspectRatio=\"xMinYMin meet\"><g transform=\"matrix(1,0,0,-1,0,4.0)\"><g><path fill-rule=\"evenodd\" fill=\"#66cc99\" stroke=\"#555555\" stroke-width=\"0.10800000000000001\" opacity=\"0.6\" d=\"M 2.5,4.0 L 2.4829629131445343,4.12940952255126 L 2.433012701892219,4.25 L 2.353553390593274,4.353553390593274 L 2.25,4.43301270189222 L 2.1294095225512604,4.482962913144534 L 2.0,4.5 L 1.8705904774487396,4.482962913144534 L 1.75,4.43301270189222 L 1.6464466094067263,4.353553390593274 L 1.5669872981077808,4.25 L 1.517037086855466,4.129409522551261 L 1.5,4.0 L 1.5170370868554657,3.8705904774487396 L 1.5669872981077806,3.75 L 1.646446609406726,3.6464466094067265 L 1.7499999999999998,3.566987298107781 L 1.8705904774487392,3.517037086855466 L 2.0,3.5 L 2.12940952255126,3.5170370868554657 L 2.2499999999999996,3.5669872981077804 L 2.353553390593274,3.646446609406726 L 2.433012701892219,3.75 L 2.482962913144534,3.870590477448739 L 2.5,4.0 z\" /><path fill-rule=\"evenodd\" fill=\"#66cc99\" stroke=\"#555555\" stroke-width=\"0.10800000000000001\" opacity=\"0.6\" d=\"M 0.5,0.0 L 0.48296291314453405,-0.12940952255126076 L 0.4330127018922192,-0.2500000000000002 L 0.35355339059327373,-0.35355339059327384 L 0.24999999999999964,-0.4330127018922195 L 0.12940952255126015,-0.4829629131445342 L -9.184850993605148e-17,-0.5 L -0.12940952255126073,-0.48296291314453405 L -0.2500000000000002,-0.4330127018922192 L -0.35355339059327395,-0.35355339059327356 L -0.4330127018922194,-0.2499999999999999 L -0.4829629131445342,-0.12940952255126018 L -0.5,6.123233995736766e-17 L -0.4829629131445341,0.1294095225512605 L -0.43301270189221924,0.25000000000000017 L -0.35355339059327373,0.3535533905932738 L -0.2499999999999999,0.4330127018922194 L -0.12940952255126031,0.48296291314453416 L 3.061616997868383e-17,0.5 L 0.12940952255126048,0.4829629131445341 L 0.25000000000000006,0.4330127018922193 L 0.3535533905932738,0.35355339059327373 L 0.43301270189221935,0.24999999999999997 L 0.48296291314453416,0.12940952255126037 L 0.5,0.0 z\" /><path fill-rule=\"evenodd\" fill=\"#66cc99\" stroke=\"#555555\" stroke-width=\"0.10800000000000001\" opacity=\"0.6\" d=\"M 1.5,1.0 L 1.482962913144534,0.8705904774487392 L 1.4330127018922192,0.7499999999999998 L 1.3535533905932737,0.6464466094067262 L 1.2499999999999996,0.5669872981077805 L 1.1294095225512601,0.5170370868554658 L 0.9999999999999999,0.5 L 0.8705904774487393,0.5170370868554659 L 0.7499999999999998,0.5669872981077808 L 0.646446609406726,0.6464466094067265 L 0.5669872981077806,0.7500000000000001 L 0.5170370868554658,0.8705904774487399 L 0.5,1.0 L 0.5170370868554659,1.1294095225512606 L 0.5669872981077808,1.2500000000000002 L 0.6464466094067263,1.3535533905932737 L 0.7500000000000001,1.4330127018922194 L 0.8705904774487396,1.482962913144534 L 1.0,1.5 L 1.1294095225512604,1.482962913144534 L 1.25,1.4330127018922192 L 1.3535533905932737,1.3535533905932737 L 1.4330127018922194,1.25 L 1.482962913144534,1.1294095225512604 L 1.5,1.0 z\" /></g></g></svg>"
      ],
      "text/plain": [
       "<shapely.geometry.multipolygon.MultiPolygon at 0x1064a46d8>"
      ]
     },
     "execution_count": 31,
     "metadata": {},
     "output_type": "execute_result"
    }
   ],
   "source": [
    "ps1.polygonize()"
   ]
  },
  {
   "cell_type": "code",
   "execution_count": null,
   "metadata": {},
   "outputs": [],
   "source": []
  }
 ],
 "metadata": {
  "kernelspec": {
   "display_name": "Python [default]",
   "language": "python",
   "name": "python3"
  },
  "language_info": {
   "codemirror_mode": {
    "name": "ipython",
    "version": 3
   },
   "file_extension": ".py",
   "mimetype": "text/x-python",
   "name": "python",
   "nbconvert_exporter": "python",
   "pygments_lexer": "ipython3",
   "version": "3.5.4"
  }
 },
 "nbformat": 4,
 "nbformat_minor": 2
}
